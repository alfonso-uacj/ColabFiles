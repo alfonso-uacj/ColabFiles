{
  "nbformat": 4,
  "nbformat_minor": 0,
  "metadata": {
    "colab": {
      "provenance": [],
      "mount_file_id": "1EL0RpFCDseb0CPZwaG5UkWm7lEEp6nKe",
      "authorship_tag": "ABX9TyPMCaKpJ+Apf7/lZlkZn2SO",
      "include_colab_link": true
    },
    "kernelspec": {
      "name": "python3",
      "display_name": "Python 3"
    },
    "language_info": {
      "name": "python"
    }
  },
  "cells": [
    {
      "cell_type": "markdown",
      "metadata": {
        "id": "view-in-github",
        "colab_type": "text"
      },
      "source": [
        "<a href=\"https://colab.research.google.com/github/alfonso-uacj/ColabFiles/blob/main/Practica4_al256111.ipynb\" target=\"_parent\"><img src=\"https://colab.research.google.com/assets/colab-badge.svg\" alt=\"Open In Colab\"/></a>"
      ]
    },
    {
      "cell_type": "code",
      "execution_count": null,
      "metadata": {
        "colab": {
          "base_uri": "https://localhost:8080/"
        },
        "id": "AR2zXVMMKWd2",
        "outputId": "2e684f75-e339-4e45-a289-0c8ef3d94170"
      },
      "outputs": [
        {
          "output_type": "stream",
          "name": "stdout",
          "text": [
            "matriz 01\n",
            "[[3 5 9]\n",
            " [7 1 9]\n",
            " [8 5 1]]\n",
            "matriz 02\n",
            "[[8 7 5]\n",
            " [5 5 1]\n",
            " [8 3 6]]\n",
            "Suma \n",
            " [[11 12 14]\n",
            " [12  6 10]\n",
            " [16  8  7]]\n",
            "Resta \n",
            " [[ 5  2 -4]\n",
            " [-2  4 -8]\n",
            " [ 0 -2  5]]\n",
            "Primera multiplicada por dos \n",
            " [[ 6 10 18]\n",
            " [14  2 18]\n",
            " [16 10  2]]\n",
            "Multiplicacion \n",
            " [[121  73  74]\n",
            " [133  81  90]\n",
            " [ 97  84  51]]\n"
          ]
        }
      ],
      "source": [
        "import numpy as np #numpy para generar matrices\n",
        "\n",
        "# Se crean dos matrices de 3x3 con números aleatorios entre 1 y 10\n",
        "mat01 = np.random.randint(1, 10, size=(3, 3))\n",
        "mat02 = np.random.randint(1, 10, size=(3, 3))\n",
        "\n",
        "#sumar las dos matrices\n",
        "mat_sum = mat01 + mat02\n",
        "\n",
        "#Resta la segunda matriz de la primera.\n",
        "mat_res = mat02 - mat01\n",
        "\n",
        "#Multiplica la primera matriz por 2\n",
        "mat_mul = mat01 * 2\n",
        "\n",
        "#Realiza una multiplicación matricial entre las dos matrices.\n",
        "mat_multiplicar = np.matmul(mat01, mat02) # se usa matmul para la operacion de multiplicar\n",
        "\n",
        "\n",
        "#imprimir las matrices generadas para visibilidad\n",
        "print(\"matriz 01\")\n",
        "print(mat01)\n",
        "print(\"matriz 02\")\n",
        "print(mat02)\n",
        "# imprimir la suma de matrices\n",
        "print(\"Suma \\n\", mat_sum)\n",
        "# imprimir la resta de matrices\n",
        "print(\"Resta \\n\", mat_res)\n",
        "# imprimir la primera matriz por 2\n",
        "print(\"Primera multiplicada por dos \\n\", mat_mul)\n",
        "# imprimir la multiplicacion de matrices\n",
        "print(\"Multiplicacion \\n\", mat_multiplicar)"
      ]
    },
    {
      "cell_type": "markdown",
      "source": [
        "https://github.com/alfonso-uacj/ColabFiles/blob/main/Practica4_al256111.ipynb"
      ],
      "metadata": {
        "id": "2XJ5LLJFaZ2W"
      }
    }
  ]
}