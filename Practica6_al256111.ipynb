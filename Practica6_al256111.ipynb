{
  "nbformat": 4,
  "nbformat_minor": 0,
  "metadata": {
    "colab": {
      "provenance": [],
      "mount_file_id": "1PagB_dQqrXDnM9Q2oxzkFJMnWa8JpVa7",
      "authorship_tag": "ABX9TyMbBFyp8HJkvsCYvzFdUtoW",
      "include_colab_link": true
    },
    "kernelspec": {
      "name": "python3",
      "display_name": "Python 3"
    },
    "language_info": {
      "name": "python"
    }
  },
  "cells": [
    {
      "cell_type": "markdown",
      "metadata": {
        "id": "view-in-github",
        "colab_type": "text"
      },
      "source": [
        "<a href=\"https://colab.research.google.com/github/alfonso-uacj/ColabFiles/blob/main/Practica6_al256111.ipynb\" target=\"_parent\"><img src=\"https://colab.research.google.com/assets/colab-badge.svg\" alt=\"Open In Colab\"/></a>"
      ]
    },
    {
      "cell_type": "code",
      "source": [
        "import pandas as pd # importar Pandas para esta practica"
      ],
      "metadata": {
        "id": "42VKLd9feQCq"
      },
      "execution_count": 5,
      "outputs": []
    },
    {
      "cell_type": "markdown",
      "source": [
        "Ejercicio 1: Análisis de la distribución de supervivencia por combinación de sexo y clase del pasajero.\n",
        "\n",
        "\n",
        "*   Calcula la proporción de supervivencia para cada combinación de 'Sex' y 'Pclass'.\n",
        "*   Identifica qué combinación tuvo la tasa de supervivencia más alta.\n",
        "\n",
        "*  Identifica qué combinación tuvo la tasa de supervivencia más baja.\n",
        "\n"
      ],
      "metadata": {
        "id": "WPHGJdeleNpq"
      }
    },
    {
      "cell_type": "code",
      "source": [
        "# archivo CSV\n",
        "file = \"/content/drive/MyDrive/ClassFiles/Titanic-Dataset.csv\"\n",
        "df = pd.read_csv(file) #dataset a partir de un archivo\n",
        "\n",
        "# Supervivencia para cada combinación de 'Sex' y 'Pclass', usando la columna \"Survived\"\n",
        "supervivencia = df.groupby(['Sex', 'Pclass'])['Survived'].mean()\n",
        "\n",
        "\n",
        "#Identifica qué combinación tuvo la tasa de supervivencia más alta.\n",
        "#usando idmax\n",
        "supermax = supervivencia.idxmax()\n",
        "\n",
        "#Identifica qué combinación tuvo la tasa de supervivencia más baja.\n",
        "supermin = supervivencia.idxmin()\n",
        "\n",
        "# Mostrar los resultados\n",
        "# Mostrar supervivencia\n",
        "print(supervivencia)\n",
        "print(\"-----------------------------------------------\")\n",
        "print(\"Combinacion de supervivencia mas alta: \", supermax )\n",
        "print(\"-------------------------------------------------\")\n",
        "print(\"Combinacion de supervevencia mas baja: \", supermin)"
      ],
      "metadata": {
        "colab": {
          "base_uri": "https://localhost:8080/"
        },
        "id": "HiImbmTZfgeO",
        "outputId": "8c9ce78b-16ad-4217-cace-83b3d109a4a9"
      },
      "execution_count": 9,
      "outputs": [
        {
          "output_type": "stream",
          "name": "stdout",
          "text": [
            "Sex     Pclass\n",
            "female  1         0.968085\n",
            "        2         0.921053\n",
            "        3         0.500000\n",
            "male    1         0.368852\n",
            "        2         0.157407\n",
            "        3         0.135447\n",
            "Name: Survived, dtype: float64\n",
            "-----------------------------------------------\n",
            "Combinacion de supervivencia mas alta:  ('female', 1)\n",
            "-------------------------------------------------\n",
            "Combinacion de supervevencia mas baja:  ('male', 3)\n"
          ]
        }
      ]
    },
    {
      "cell_type": "markdown",
      "source": [
        "Ejercicio 2: Identificación de familias grandes a bordo.\n",
        "\n",
        "\n",
        "*   Crea una nueva columna 'FamilySize' sumando las columnas 'SibSp' y 'Parch'.\n",
        "*   Considera como \"familia grande\" a aquellas donde 'FamilySize' es mayor a 3.\n",
        "\n",
        "\n",
        "*   Calcula el número de pasajeros en familias grandes.\n",
        "*   Calcula la proporción de supervivencia entre los pasajeros que pertenecen a familias grandes.\n",
        "\n",
        "\n",
        "\n"
      ],
      "metadata": {
        "id": "DJJYtTHxi0tC"
      }
    },
    {
      "cell_type": "code",
      "source": [
        "# archivo CSV\n",
        "file = \"/content/drive/MyDrive/ClassFiles/Titanic-Dataset.csv\"\n",
        "read = pd.read_csv(file)\n",
        "\n",
        "#Crea una nueva columna 'FamilySize' sumando las columnas 'SibSp' y 'Parch'.\n",
        "\n",
        "# Crear FAmilySize a partir de la lectura read\n",
        "read['FamilySize'] = read['SibSp'] + read['Parch']\n",
        "#mostrar FamiliaGrande\n",
        "print(\"Familias Grandes\")\n",
        "print(read.head())\n",
        "print(\"-----------------------------------------------------------------------------------\")\n",
        "\n",
        "# Considera como \"familia grande\" a aquellas donde 'FamilySize' es mayor a 3.\n",
        "\n",
        "# Crear una nueva columna 'Familiagrande' y buscar si es mayor a 3\n",
        "read['FamiliaGrande'] = read['FamilySize'] > 3\n",
        "#mostrar FamiliaGrande\n",
        "print(\"Familias Grandes mayor a 3\")\n",
        "print(read.head())\n",
        "print(\"-----------------------------------------------------------------------------------\")\n",
        "\n",
        "# Calcula el número de pasajeros en familias grandes.\n",
        "\n",
        "calculofamilia = read['FamiliaGrande'].sum()\n",
        "print(\"Numero de pasajeros en familias grandes: \", calculofamilia)\n",
        "print(\"-----------------------------------------------------------------------------------\")\n",
        "\n",
        "#Calcula la proporción de supervivencia entre los pasajeros que pertenecen a familias grandes.\n",
        "porcentsuper = read[read['FamiliaGrande'] == True]['Survived'].mean() # sacar la media del resultado de familias grandes\n",
        "porcentsuper10 = round(porcentsuper * 100, 2)  # multiplicar por 100 para sacar porcentaje y redondear con dos decimales\n",
        "print(\"Porcentaje de supervivencia en familias grandes: \", porcentsuper10)"
      ],
      "metadata": {
        "colab": {
          "base_uri": "https://localhost:8080/"
        },
        "id": "ldE_dilijvb4",
        "outputId": "41d9becd-e7dc-468d-d80c-0c961b8d6686"
      },
      "execution_count": 17,
      "outputs": [
        {
          "output_type": "stream",
          "name": "stdout",
          "text": [
            "Familias Grandes\n",
            "   PassengerId  Survived  Pclass  \\\n",
            "0            1         0       3   \n",
            "1            2         1       1   \n",
            "2            3         1       3   \n",
            "3            4         1       1   \n",
            "4            5         0       3   \n",
            "\n",
            "                                                Name     Sex   Age  SibSp  \\\n",
            "0                            Braund, Mr. Owen Harris    male  22.0      1   \n",
            "1  Cumings, Mrs. John Bradley (Florence Briggs Th...  female  38.0      1   \n",
            "2                             Heikkinen, Miss. Laina  female  26.0      0   \n",
            "3       Futrelle, Mrs. Jacques Heath (Lily May Peel)  female  35.0      1   \n",
            "4                           Allen, Mr. William Henry    male  35.0      0   \n",
            "\n",
            "   Parch            Ticket     Fare Cabin Embarked  FamilySize  \n",
            "0      0         A/5 21171   7.2500   NaN        S           1  \n",
            "1      0          PC 17599  71.2833   C85        C           1  \n",
            "2      0  STON/O2. 3101282   7.9250   NaN        S           0  \n",
            "3      0            113803  53.1000  C123        S           1  \n",
            "4      0            373450   8.0500   NaN        S           0  \n",
            "-----------------------------------------------------------------------------------\n",
            "Familias Grandes mayor a 3\n",
            "   PassengerId  Survived  Pclass  \\\n",
            "0            1         0       3   \n",
            "1            2         1       1   \n",
            "2            3         1       3   \n",
            "3            4         1       1   \n",
            "4            5         0       3   \n",
            "\n",
            "                                                Name     Sex   Age  SibSp  \\\n",
            "0                            Braund, Mr. Owen Harris    male  22.0      1   \n",
            "1  Cumings, Mrs. John Bradley (Florence Briggs Th...  female  38.0      1   \n",
            "2                             Heikkinen, Miss. Laina  female  26.0      0   \n",
            "3       Futrelle, Mrs. Jacques Heath (Lily May Peel)  female  35.0      1   \n",
            "4                           Allen, Mr. William Henry    male  35.0      0   \n",
            "\n",
            "   Parch            Ticket     Fare Cabin Embarked  FamilySize  FamiliaGrande  \n",
            "0      0         A/5 21171   7.2500   NaN        S           1          False  \n",
            "1      0          PC 17599  71.2833   C85        C           1          False  \n",
            "2      0  STON/O2. 3101282   7.9250   NaN        S           0          False  \n",
            "3      0            113803  53.1000  C123        S           1          False  \n",
            "4      0            373450   8.0500   NaN        S           0          False  \n",
            "-----------------------------------------------------------------------------------\n",
            "Numero de pasajeros en familias grandes:  62\n",
            "-----------------------------------------------------------------------------------\n",
            "Porcentaje de supervivencia en familias grandes:  16.13\n"
          ]
        }
      ]
    },
    {
      "cell_type": "markdown",
      "source": [
        "Ejercicio 3: Segmentación por grupos de edad.\n",
        "\n",
        "Clasifica a los pasajeros en las siguientes categorías de edad(tip puede resultar mas sencillo realizarlo con una función):  menor de edad (< 18) y mayor de edad (>=18)"
      ],
      "metadata": {
        "id": "ZDCfBdL7MIQ_"
      }
    },
    {
      "cell_type": "code",
      "source": [
        "def edad(age):\n",
        "      if pd.isnull(age):  # Manejar valores que aparecen como Nan en archivo\n",
        "        return \"NaN\"\n",
        "      else:\n",
        "        if age < 18:\n",
        "          return \"Menor de edad\"\n",
        "        else:\n",
        "          return \"Mayor de edad\"\n",
        "\n",
        "# archivo CSV\n",
        "file = \"/content/drive/MyDrive/ClassFiles/Titanic-Dataset.csv\"\n",
        "df = pd.read_csv(file) #dataset a partir de un archivo\n",
        "\n",
        "# se crea una columna Edad el dataset leido para almacenar resultado y desde la columna Age mandar a llamar a la funcion\n",
        "df['Edad'] = df['Age'].apply(edad)\n",
        "\n",
        "print(df[['Age', 'Edad']])"
      ],
      "metadata": {
        "colab": {
          "base_uri": "https://localhost:8080/"
        },
        "id": "fjFqw98sMOip",
        "outputId": "b4d6306e-f120-4c6b-a8b3-e7be53c6efbf"
      },
      "execution_count": 21,
      "outputs": [
        {
          "output_type": "stream",
          "name": "stdout",
          "text": [
            "      Age           Edad\n",
            "0    22.0  Mayor de edad\n",
            "1    38.0  Mayor de edad\n",
            "2    26.0  Mayor de edad\n",
            "3    35.0  Mayor de edad\n",
            "4    35.0  Mayor de edad\n",
            "..    ...            ...\n",
            "886  27.0  Mayor de edad\n",
            "887  19.0  Mayor de edad\n",
            "888   NaN            NaN\n",
            "889  26.0  Mayor de edad\n",
            "890  32.0  Mayor de edad\n",
            "\n",
            "[891 rows x 2 columns]\n"
          ]
        }
      ]
    },
    {
      "cell_type": "markdown",
      "source": [
        "Ejercicio 4: Comparación entre promedios calculados manualmente y con Pandas\n",
        "\n",
        "Utiliza NumPy para calcular el promedio de las columnas 'Age' y 'Fare', ignorando valores nulos.\n",
        "Compara estos valores con los promedios obtenidos utilizando los métodos nativos de Pandas.\n",
        "Verifica que los resultados sean consistentes."
      ],
      "metadata": {
        "id": "GGCGizOWPogH"
      }
    },
    {
      "cell_type": "code",
      "source": [
        "#Utiliza NumPy para calcular el promedio de las columnas 'Age' y 'Fare', ignorando valores nulos\n",
        "import numpy as np #importar numpy\n",
        "\n",
        "# archivo CSV\n",
        "file = \"/content/drive/MyDrive/ClassFiles/Titanic-Dataset.csv\"\n",
        "df = pd.read_csv(file) #dataset a partir de un archivo\n",
        "\n",
        "age_prom = round(np.nanmean(df['Age']), 3) #np.mean calcular media numpy\n",
        "fare_prom = round(np.nanmean(df['Fare']), 3) #np.mean calcular media numpy\n",
        "\n",
        "print(\"Promedio de Age: \", age_prom)\n",
        "print(\"Promedio de Fare: \", fare_prom)\n",
        "\n",
        "#  Compara estos valores con los promedios obtenidos utilizando los métodos nativos de Pandas\n",
        "age_prom_pa = round(df['Age'].mean(skipna=True), 3) #ignorar valores nulos con skipna=True\n",
        "fare_prom_pa = round(df['Fare'].mean(skipna=True), 3)\n",
        "\n",
        "print(\"Promedio de Age con Pandas: \", age_prom_pa)\n",
        "print(\"Promedio de Fare con Pandas: \", fare_prom_pa)\n",
        "\n",
        "\n"
      ],
      "metadata": {
        "colab": {
          "base_uri": "https://localhost:8080/"
        },
        "id": "zmI8ZWvvPsVJ",
        "outputId": "d046bc05-4075-4f18-85ae-b015bcf4066e"
      },
      "execution_count": 25,
      "outputs": [
        {
          "output_type": "stream",
          "name": "stdout",
          "text": [
            "Promedio de Age:  29.699\n",
            "Promedio de Fare:  32.204\n",
            "Promedio de Age con Pandas:  29.699\n",
            "Promedio de Fare con Pandas:  32.204\n"
          ]
        }
      ]
    },
    {
      "cell_type": "markdown",
      "source": [
        "Ejercicio 5. Creación de intervalos de clase usando NumPy y análisis con Pandas\n",
        "\n",
        "Divide la columna 'Fare' en 5 intervalos equidistantes utilizando la función numpy.linspace, el estudiante deberá investigar la operación de esta función en python.\n",
        "Crea una nueva columna en el DataFrame que asigne a cada pasajero el intervalo correspondiente de su tarifa.\n",
        "Calcula el número de pasajeros en cada intervalo utilizando Pandas y la proporción de supervivientes por intervalo."
      ],
      "metadata": {
        "id": "a4wxIR5Gfs_S"
      }
    },
    {
      "cell_type": "code",
      "source": [
        "#importar librerias\n",
        "import numpy as np\n",
        "\n",
        "# archivo CSV\n",
        "file = \"/content/drive/MyDrive/ClassFiles/Titanic-Dataset.csv\"\n",
        "df = pd.read_csv(file) #dataset a partir de un archivo\n",
        "\n",
        "# usar np.linspace definir valores\n",
        "fare_min = df['Fare'].min()\n",
        "fare_max = df['Fare'].max()\n",
        "bins = np.linspace(fare_min, fare_max, num=6)  # 5 intervalos\n",
        "\n",
        "# Se crea 'Farecat' y se asignan intervalos equidistantes\n",
        "df['Farecat'] = pd.cut(df['Fare'], bins=bins, include_lowest=True, labels=[1, 2, 3, 4, 5])\n",
        "\n",
        "# Calcular el número de pasajeros de los intervalos\n",
        "passengercount_fare = df['Farecat'].value_counts().sort_index()\n",
        "\n",
        "# Calcular la proporción de supervivientes por intervalo de tarifa\n",
        "passengerfare_category = df.groupby('Farecat')['Survived'].mean()\n",
        "\n",
        "# Imprimir los resultados\n",
        "print(\"Número de pasajeros en cada intervalo de tarifa:\")\n",
        "print(passengercount_fare)\n",
        "\n",
        "print(\"------------------------------------------------------\")\n",
        "\n",
        "print(\"Proporción de supervivencia por intervalo de tarifa:\")\n",
        "print(passengerfare_category)"
      ],
      "metadata": {
        "colab": {
          "base_uri": "https://localhost:8080/"
        },
        "id": "xWRDGDIog9wf",
        "outputId": "559fc8de-b1ab-4730-f6e2-f3b5a3e0ac33"
      },
      "execution_count": 29,
      "outputs": [
        {
          "output_type": "stream",
          "name": "stdout",
          "text": [
            "Número de pasajeros en cada intervalo de tarifa:\n",
            "Farecat\n",
            "1    838\n",
            "2     33\n",
            "3     17\n",
            "4      0\n",
            "5      3\n",
            "Name: count, dtype: int64\n",
            "------------------------------------------------------\n",
            "Proporción de supervivencia por intervalo de tarifa:\n",
            "Farecat\n",
            "1    0.361575\n",
            "2    0.757576\n",
            "3    0.647059\n",
            "4         NaN\n",
            "5    1.000000\n",
            "Name: Survived, dtype: float64\n"
          ]
        },
        {
          "output_type": "stream",
          "name": "stderr",
          "text": [
            "<ipython-input-29-75e470a8fc0a>:20: FutureWarning: The default of observed=False is deprecated and will be changed to True in a future version of pandas. Pass observed=False to retain current behavior or observed=True to adopt the future default and silence this warning.\n",
            "  passengerfare_category = df.groupby('Farecat')['Survived'].mean()\n"
          ]
        }
      ]
    }
  ]
}