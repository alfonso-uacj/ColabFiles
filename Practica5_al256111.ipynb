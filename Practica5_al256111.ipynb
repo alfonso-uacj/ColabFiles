{
  "nbformat": 4,
  "nbformat_minor": 0,
  "metadata": {
    "colab": {
      "provenance": [],
      "mount_file_id": "1xrqlAu65Tw8Rny04IOZcPRxFOIjhC2N2",
      "authorship_tag": "ABX9TyNfyoKvDItMXKpzG0B03Kvb",
      "include_colab_link": true
    },
    "kernelspec": {
      "name": "python3",
      "display_name": "Python 3"
    },
    "language_info": {
      "name": "python"
    }
  },
  "cells": [
    {
      "cell_type": "markdown",
      "metadata": {
        "id": "view-in-github",
        "colab_type": "text"
      },
      "source": [
        "<a href=\"https://colab.research.google.com/github/alfonso-uacj/ColabFiles/blob/main/Practica5_al256111.ipynb\" target=\"_parent\"><img src=\"https://colab.research.google.com/assets/colab-badge.svg\" alt=\"Open In Colab\"/></a>"
      ]
    },
    {
      "cell_type": "code",
      "execution_count": 9,
      "metadata": {
        "colab": {
          "base_uri": "https://localhost:8080/"
        },
        "id": "v4nAjRGhPu5h",
        "outputId": "e2cd6bbd-0232-46ee-a7a5-d8cef286176d"
      },
      "outputs": [
        {
          "output_type": "stream",
          "name": "stdout",
          "text": [
            "Arreglo:  [17 25 35  9 37 10 16 47 12 45  1 15  1  8 32]\n",
            "Mascara booleana:   [False False  True False  True False False  True False  True False False\n",
            " False False  True]\n",
            "Suma de hallazgos mayores a 25:   5\n",
            "Valores mayores a 25:   [35 37 47 45 32]\n"
          ]
        }
      ],
      "source": [
        "import numpy as np # usar numpy para generar arreglo\n",
        "\n",
        "# Crear un arreglo unidimensional con 15 números aleatorios entre 1 y 50\n",
        "arr = np.random.randint(1, 50, size=15)\n",
        "\n",
        "# crear mascara bool (true or false)\n",
        "masc = arr > 25\n",
        "\n",
        "# contar cuantos son mayores a 25 del resultado de la mascara booleana\n",
        "sum = np.sum(masc) # se utilza np.sum\n",
        "\n",
        "# asignar los valores encontrados \"true\"  de la mascara booleana - arr a variable mayores25 poara imprimir valor real\n",
        "mayor25 = arr[masc]\n",
        "\n",
        "\n",
        "# Imprimir el arreglo\n",
        "print(\"Arreglo: \", arr)\n",
        "# imprimir mascara booleana\n",
        "print(\"Mascara booleana:  \", masc)\n",
        "# imprimir la cantidad encontrada de mascara\n",
        "print(\"Suma de hallazgos mayores a 25:  \", sum)\n",
        "# imprimir valor real de mascara booleana\n",
        "print(\"Valores mayores a 25:  \", mayor25)\n"
      ]
    },
    {
      "cell_type": "markdown",
      "source": [
        "https://github.com/alfonso-uacj/ColabFiles/blob/main/Practica5_al256111.ipynb"
      ],
      "metadata": {
        "id": "lxFfhR_lZNhq"
      }
    }
  ]
}