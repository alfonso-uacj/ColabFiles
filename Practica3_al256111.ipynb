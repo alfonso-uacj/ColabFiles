{
  "nbformat": 4,
  "nbformat_minor": 0,
  "metadata": {
    "colab": {
      "provenance": [],
      "mount_file_id": "1S5Q46K87NkZUICYF37SPMGHrsbhsJ6vD",
      "authorship_tag": "ABX9TyP2uukqwjoQ6UTAtG8lJQCb",
      "include_colab_link": true
    },
    "kernelspec": {
      "name": "python3",
      "display_name": "Python 3"
    },
    "language_info": {
      "name": "python"
    }
  },
  "cells": [
    {
      "cell_type": "markdown",
      "metadata": {
        "id": "view-in-github",
        "colab_type": "text"
      },
      "source": [
        "<a href=\"https://colab.research.google.com/github/alfonso-uacj/ColabFiles/blob/main/Practica3_al256111.ipynb\" target=\"_parent\"><img src=\"https://colab.research.google.com/assets/colab-badge.svg\" alt=\"Open In Colab\"/></a>"
      ]
    },
    {
      "cell_type": "code",
      "execution_count": null,
      "metadata": {
        "colab": {
          "base_uri": "https://localhost:8080/"
        },
        "id": "RIj2zEII6z1f",
        "outputId": "453636fa-9c74-4708-b773-c6955a6c0517"
      },
      "outputs": [
        {
          "output_type": "stream",
          "name": "stdout",
          "text": [
            "[55 96 26  5 68 32 38 28 14 49  6 60 23 63 64 13 40 23 54 74]\n",
            "Maximo:  96\n",
            "Minimo:  5\n",
            "Media:  41.55\n",
            "Suma de 10:  [ 65 106  36  15  78  42  48  38  24  59  16  70  33  73  74  23  50  33\n",
            "  64  84]\n"
          ]
        }
      ],
      "source": [
        "import numpy as np #se usa numpy para un arreglo\n",
        "\n",
        "# se asigna a arr el arreglo\n",
        "arr = np.random.randint(1, 100, size=20)\n",
        "\n",
        "# usar np.max para maximo\n",
        "max = np.max(arr)\n",
        "# usar np.min para maximo\n",
        "min = np.min(arr)\n",
        "# usar np.mean para media\n",
        "media = np.mean(arr)\n",
        "# se suma 10 los elementos del arreglo\n",
        "arr10 = arr + 10\n",
        "\n",
        "# imprimir el arreglo generado\n",
        "print(arr)\n",
        "# imprimir maximo\n",
        "print(\"Maximo: \", max)\n",
        "# imprimir minimo\n",
        "print(\"Minimo: \", min)\n",
        "# imprimir media\n",
        "print(\"Media: \", media)\n",
        "# imprimir suma de 10\n",
        "print(\"Suma de 10: \", arr10)"
      ]
    },
    {
      "cell_type": "markdown",
      "source": [
        "https://github.com/alfonso-uacj/ColabFiles/blob/main/Practica3_al256111.ipynb"
      ],
      "metadata": {
        "id": "bhPkN5jzZ7Sg"
      }
    }
  ]
}